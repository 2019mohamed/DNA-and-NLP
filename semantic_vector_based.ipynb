{
  "nbformat": 4,
  "nbformat_minor": 0,
  "metadata": {
    "colab": {
      "name": "semantic vector based.ipynb",
      "provenance": [],
      "collapsed_sections": [],
      "authorship_tag": "ABX9TyOthBaOhe2dk6sq7Rg1j6BZ",
      "include_colab_link": true
    },
    "kernelspec": {
      "name": "python3",
      "display_name": "Python 3"
    },
    "language_info": {
      "name": "python"
    }
  },
  "cells": [
    {
      "cell_type": "markdown",
      "metadata": {
        "id": "view-in-github",
        "colab_type": "text"
      },
      "source": [
        "<a href=\"https://colab.research.google.com/github/2019mohamed/DNA-and-NLP/blob/main/semantic_vector_based.ipynb\" target=\"_parent\"><img src=\"https://colab.research.google.com/assets/colab-badge.svg\" alt=\"Open In Colab\"/></a>"
      ]
    },
    {
      "cell_type": "code",
      "metadata": {
        "colab": {
          "base_uri": "https://localhost:8080/",
          "height": 1000
        },
        "id": "88gdesEIrITn",
        "outputId": "d0a7d19a-a523-476a-d838-cebc64e5633d"
      },
      "source": [
        "import gensim.models\n",
        "import pandas as pd\n",
        "from gensim.models import FastText , Word2Vec\n",
        "from sklearn.decomposition import PCA\n",
        "import matplotlib.pyplot as plt\n",
        "from sklearn.manifold import TSNE\n",
        "import numpy as np\n",
        "import math\n",
        "from sklearn.neural_network import MLPClassifier\n",
        "from sklearn.ensemble import RandomForestClassifier, AdaBoostClassifier\n",
        "from sklearn.neighbors import KNeighborsClassifier\n",
        "from sklearn.svm import SVC\n",
        "from sklearn.tree import DecisionTreeClassifier\n",
        "from sklearn.naive_bayes import GaussianNB\n",
        "from sklearn.gaussian_process import GaussianProcessClassifier\n",
        "from sklearn.gaussian_process.kernels import RBF\n",
        "from sklearn.metrics import classification_report, accuracy_score\n",
        "from sklearn import model_selection\n",
        "\n",
        "data = pd.read_csv('promoters.csv')\n",
        "data['Sequence'] = data['Sequence'].str.replace('\\t\\t' , '')\n",
        "data['Sequence'] = data['Sequence'].str.replace('\\t' , '')\n",
        "seqs = list(data['Sequence'])\n",
        "print(len(seqs))\n",
        "\n",
        "data['Class'] = data['Class'].str.replace('+','0')\n",
        "data['Class'] = data['Class'].str.replace('-','1')\n",
        "labels = pd.to_numeric(data['Class'])\n",
        "labels = labels.to_numpy()\n",
        "\n",
        "sentences = []\n",
        "\n",
        "for s in seqs:\n",
        "    sentences.append([s])\n",
        "\n",
        "model = FastText(sentences=sentences , min_count=1 , size = 100)\n",
        "vecs = []\n",
        "words = model.wv.vocab\n",
        "for w in words:\n",
        "  vecs.append(model.wv[w])\n",
        "\n",
        "vecs = np.array(vecs)\n",
        "perm = np.random.permutation(len(vecs))\n",
        "r = math.floor(0.7 * len(perm))\n",
        "train_idx = perm[:r]\n",
        "test_idx = perm[r:]\n",
        "\n",
        "train , ltrain = vecs[train_idx] , labels[train_idx]\n",
        "test , ltest = vecs[test_idx] , labels[test_idx]\n",
        "\n",
        "# define scoring method\n",
        "scoring = 'accuracy'\n",
        "\n",
        "# Define models to train\n",
        "names = [\"Nearest Neighbors\", \"Gaussian Process\",\n",
        "         \"Decision Tree\", \"Random Forest\", \"Neural Net\", \"AdaBoost\",\n",
        "         \"Naive Bayes\", \"SVM Linear\", \"SVM RBF\", \"SVM Sigmoid\"]\n",
        "\n",
        "classifiers = [\n",
        "    KNeighborsClassifier(n_neighbors = 5),\n",
        "    GaussianProcessClassifier(1.0 * RBF(1.0)),\n",
        "    DecisionTreeClassifier(max_depth=5),\n",
        "    RandomForestClassifier(max_depth=5, n_estimators=10, max_features=1),\n",
        "    MLPClassifier(alpha=1 , max_iter = 1000),\n",
        "    AdaBoostClassifier(),\n",
        "    GaussianNB(),\n",
        "    SVC(kernel = 'linear'), \n",
        "    SVC(kernel = 'rbf'),\n",
        "    SVC(kernel = 'sigmoid')\n",
        "]\n",
        "models = zip(names, classifiers)\n",
        "\n",
        "# evaluate each model in turn\n",
        "results = []\n",
        "names = []\n",
        "\n",
        "for name, model in models:\n",
        "    kfold = model_selection.KFold(n_splits=10, random_state = 42)\n",
        "    cv_results = model_selection.cross_val_score(model, train, ltrain, cv=kfold, scoring=scoring)\n",
        "    results.append(cv_results)\n",
        "    names.append(name)\n",
        "    msg = \"%s: %f (%f)\" % (name, cv_results.mean(), cv_results.std())\n",
        "    print(msg)\n",
        "    model.fit(train, ltrain)\n",
        "    predictions = model.predict(test)\n",
        "    print('Test-- ',name,': ',accuracy_score(ltest, predictions))\n",
        "    print()\n",
        "    print(classification_report(ltest, predictions))\n",
        "\n",
        "pca = TSNE(n_components=2).fit_transform(vecs)\n",
        "\n",
        "plt.scatter(pca[:,0], pca[:,1], c = labels )\n",
        "plt.show()\n"
      ],
      "execution_count": 34,
      "outputs": [
        {
          "output_type": "stream",
          "text": [
            "106\n"
          ],
          "name": "stdout"
        },
        {
          "output_type": "stream",
          "text": [
            "/usr/local/lib/python3.7/dist-packages/sklearn/model_selection/_split.py:296: FutureWarning: Setting a random_state has no effect since shuffle is False. This will raise an error in 0.24. You should leave random_state to its default (None), or set shuffle=True.\n",
            "  FutureWarning\n",
            "/usr/local/lib/python3.7/dist-packages/sklearn/model_selection/_split.py:296: FutureWarning: Setting a random_state has no effect since shuffle is False. This will raise an error in 0.24. You should leave random_state to its default (None), or set shuffle=True.\n",
            "  FutureWarning\n"
          ],
          "name": "stderr"
        },
        {
          "output_type": "stream",
          "text": [
            "Nearest Neighbors: 0.823214 (0.106681)\n",
            "Test--  Nearest Neighbors :  0.90625\n",
            "\n",
            "              precision    recall  f1-score   support\n",
            "\n",
            "           0       0.91      0.83      0.87        12\n",
            "           1       0.90      0.95      0.93        20\n",
            "\n",
            "    accuracy                           0.91        32\n",
            "   macro avg       0.91      0.89      0.90        32\n",
            "weighted avg       0.91      0.91      0.91        32\n",
            "\n",
            "Gaussian Process: 0.557143 (0.126974)\n",
            "Test--  Gaussian Process :  0.375\n",
            "\n",
            "              precision    recall  f1-score   support\n",
            "\n",
            "           0       0.38      1.00      0.55        12\n",
            "           1       0.00      0.00      0.00        20\n",
            "\n",
            "    accuracy                           0.38        32\n",
            "   macro avg       0.19      0.50      0.27        32\n",
            "weighted avg       0.14      0.38      0.20        32\n",
            "\n",
            "Decision Tree: 0.460714 (0.179604)\n",
            "Test--  Decision Tree :  0.5625\n",
            "\n",
            "              precision    recall  f1-score   support\n",
            "\n",
            "           0       0.44      0.67      0.53        12\n",
            "           1       0.71      0.50      0.59        20\n",
            "\n",
            "    accuracy                           0.56        32\n",
            "   macro avg       0.58      0.58      0.56        32\n",
            "weighted avg       0.61      0.56      0.57        32\n",
            "\n"
          ],
          "name": "stdout"
        },
        {
          "output_type": "stream",
          "text": [
            "/usr/local/lib/python3.7/dist-packages/sklearn/metrics/_classification.py:1272: UndefinedMetricWarning: Precision and F-score are ill-defined and being set to 0.0 in labels with no predicted samples. Use `zero_division` parameter to control this behavior.\n",
            "  _warn_prf(average, modifier, msg_start, len(result))\n",
            "/usr/local/lib/python3.7/dist-packages/sklearn/model_selection/_split.py:296: FutureWarning: Setting a random_state has no effect since shuffle is False. This will raise an error in 0.24. You should leave random_state to its default (None), or set shuffle=True.\n",
            "  FutureWarning\n",
            "/usr/local/lib/python3.7/dist-packages/sklearn/model_selection/_split.py:296: FutureWarning: Setting a random_state has no effect since shuffle is False. This will raise an error in 0.24. You should leave random_state to its default (None), or set shuffle=True.\n",
            "  FutureWarning\n"
          ],
          "name": "stderr"
        },
        {
          "output_type": "stream",
          "text": [
            "Random Forest: 0.594643 (0.131478)\n",
            "Test--  Random Forest :  0.59375\n",
            "\n",
            "              precision    recall  f1-score   support\n",
            "\n",
            "           0       0.48      0.83      0.61        12\n",
            "           1       0.82      0.45      0.58        20\n",
            "\n",
            "    accuracy                           0.59        32\n",
            "   macro avg       0.65      0.64      0.59        32\n",
            "weighted avg       0.69      0.59      0.59        32\n",
            "\n"
          ],
          "name": "stdout"
        },
        {
          "output_type": "stream",
          "text": [
            "/usr/local/lib/python3.7/dist-packages/sklearn/model_selection/_split.py:296: FutureWarning: Setting a random_state has no effect since shuffle is False. This will raise an error in 0.24. You should leave random_state to its default (None), or set shuffle=True.\n",
            "  FutureWarning\n"
          ],
          "name": "stderr"
        },
        {
          "output_type": "stream",
          "text": [
            "Neural Net: 0.557143 (0.126974)\n",
            "Test--  Neural Net :  0.375\n",
            "\n",
            "              precision    recall  f1-score   support\n",
            "\n",
            "           0       0.38      1.00      0.55        12\n",
            "           1       0.00      0.00      0.00        20\n",
            "\n",
            "    accuracy                           0.38        32\n",
            "   macro avg       0.19      0.50      0.27        32\n",
            "weighted avg       0.14      0.38      0.20        32\n",
            "\n"
          ],
          "name": "stdout"
        },
        {
          "output_type": "stream",
          "text": [
            "/usr/local/lib/python3.7/dist-packages/sklearn/metrics/_classification.py:1272: UndefinedMetricWarning: Precision and F-score are ill-defined and being set to 0.0 in labels with no predicted samples. Use `zero_division` parameter to control this behavior.\n",
            "  _warn_prf(average, modifier, msg_start, len(result))\n",
            "/usr/local/lib/python3.7/dist-packages/sklearn/model_selection/_split.py:296: FutureWarning: Setting a random_state has no effect since shuffle is False. This will raise an error in 0.24. You should leave random_state to its default (None), or set shuffle=True.\n",
            "  FutureWarning\n"
          ],
          "name": "stderr"
        },
        {
          "output_type": "stream",
          "text": [
            "AdaBoost: 0.785714 (0.203759)\n",
            "Test--  AdaBoost :  0.71875\n",
            "\n",
            "              precision    recall  f1-score   support\n",
            "\n",
            "           0       0.60      0.75      0.67        12\n",
            "           1       0.82      0.70      0.76        20\n",
            "\n",
            "    accuracy                           0.72        32\n",
            "   macro avg       0.71      0.72      0.71        32\n",
            "weighted avg       0.74      0.72      0.72        32\n",
            "\n",
            "Naive Bayes: 0.810714 (0.136744)\n",
            "Test--  Naive Bayes :  0.875\n",
            "\n",
            "              precision    recall  f1-score   support\n",
            "\n",
            "           0       0.90      0.75      0.82        12\n",
            "           1       0.86      0.95      0.90        20\n",
            "\n",
            "    accuracy                           0.88        32\n",
            "   macro avg       0.88      0.85      0.86        32\n",
            "weighted avg       0.88      0.88      0.87        32\n",
            "\n",
            "SVM Linear: 0.557143 (0.126974)\n",
            "Test--  SVM Linear :  0.375\n",
            "\n",
            "              precision    recall  f1-score   support\n",
            "\n",
            "           0       0.38      1.00      0.55        12\n",
            "           1       0.00      0.00      0.00        20\n",
            "\n",
            "    accuracy                           0.38        32\n",
            "   macro avg       0.19      0.50      0.27        32\n",
            "weighted avg       0.14      0.38      0.20        32\n",
            "\n",
            "SVM RBF: 0.851786 (0.096841)\n",
            "Test--  SVM RBF :  0.9375\n",
            "\n",
            "              precision    recall  f1-score   support\n",
            "\n",
            "           0       1.00      0.83      0.91        12\n",
            "           1       0.91      1.00      0.95        20\n",
            "\n",
            "    accuracy                           0.94        32\n",
            "   macro avg       0.95      0.92      0.93        32\n",
            "weighted avg       0.94      0.94      0.94        32\n",
            "\n"
          ],
          "name": "stdout"
        },
        {
          "output_type": "stream",
          "text": [
            "/usr/local/lib/python3.7/dist-packages/sklearn/model_selection/_split.py:296: FutureWarning: Setting a random_state has no effect since shuffle is False. This will raise an error in 0.24. You should leave random_state to its default (None), or set shuffle=True.\n",
            "  FutureWarning\n",
            "/usr/local/lib/python3.7/dist-packages/sklearn/model_selection/_split.py:296: FutureWarning: Setting a random_state has no effect since shuffle is False. This will raise an error in 0.24. You should leave random_state to its default (None), or set shuffle=True.\n",
            "  FutureWarning\n",
            "/usr/local/lib/python3.7/dist-packages/sklearn/metrics/_classification.py:1272: UndefinedMetricWarning: Precision and F-score are ill-defined and being set to 0.0 in labels with no predicted samples. Use `zero_division` parameter to control this behavior.\n",
            "  _warn_prf(average, modifier, msg_start, len(result))\n",
            "/usr/local/lib/python3.7/dist-packages/sklearn/model_selection/_split.py:296: FutureWarning: Setting a random_state has no effect since shuffle is False. This will raise an error in 0.24. You should leave random_state to its default (None), or set shuffle=True.\n",
            "  FutureWarning\n",
            "/usr/local/lib/python3.7/dist-packages/sklearn/model_selection/_split.py:296: FutureWarning: Setting a random_state has no effect since shuffle is False. This will raise an error in 0.24. You should leave random_state to its default (None), or set shuffle=True.\n",
            "  FutureWarning\n"
          ],
          "name": "stderr"
        },
        {
          "output_type": "stream",
          "text": [
            "SVM Sigmoid: 0.796429 (0.145336)\n",
            "Test--  SVM Sigmoid :  0.84375\n",
            "\n",
            "              precision    recall  f1-score   support\n",
            "\n",
            "           0       0.82      0.75      0.78        12\n",
            "           1       0.86      0.90      0.88        20\n",
            "\n",
            "    accuracy                           0.84        32\n",
            "   macro avg       0.84      0.82      0.83        32\n",
            "weighted avg       0.84      0.84      0.84        32\n",
            "\n"
          ],
          "name": "stdout"
        },
        {
          "output_type": "display_data",
          "data": {
            "image/png": "[encoded data removed]",
            "text/plain": [
              "<Figure size 432x288 with 1 Axes>"
            ]
          },
          "metadata": {
            "tags": [],
            "needs_background": "light"
          }
        }
      ]
    }
  ]
}